{
 "cells": [
  {
   "cell_type": "code",
   "execution_count": 7,
   "metadata": {
    "ExecuteTime": {
     "start_time": "2023-06-02T14:08:44.572444Z",
     "end_time": "2023-06-02T14:08:44.592698Z"
    }
   },
   "outputs": [],
   "source": [
    "\n",
    "import numpy as np\n",
    "import scipy as sp\n",
    "import pandas as pd\n",
    "import matplotlib.pyplot as plt\n",
    "import seaborn as sns\n",
    "import networkx as nx\n",
    "\n",
    "\n",
    "\n",
    "from SALib.analyze import sobol\n"
   ]
  },
  {
   "cell_type": "code",
   "execution_count": 2,
   "metadata": {
    "ExecuteTime": {
     "start_time": "2023-06-02T09:44:08.470737Z",
     "end_time": "2023-06-02T09:44:08.486455Z"
    }
   },
   "outputs": [
    {
     "name": "stdout",
     "output_type": "stream",
     "text": [
      "2.0.2\n",
      "3.1\n"
     ]
    }
   ],
   "source": [
    "# make sure pandas is version 1.0 or higher\n",
    "# make sure networkx is verion 2.4 or higher\n",
    "print(pd.__version__)\n",
    "print(nx.__version__)"
   ]
  },
  {
   "cell_type": "code",
   "execution_count": 18,
   "metadata": {
    "ExecuteTime": {
     "start_time": "2023-06-02T14:21:51.654402Z",
     "end_time": "2023-06-02T14:21:51.686000Z"
    },
    "scrolled": true
   },
   "outputs": [],
   "source": [
    "from ema_workbench import (\n",
    "    Model,\n",
    "    Policy,\n",
    "    ema_logging,\n",
    "    SequentialEvaluator,\n",
    "    MultiprocessingEvaluator,\n",
    "    perform_experiments,\n",
    "    Samplers\n",
    ")\n",
    "from dike_model_function import DikeNetwork  # @UnresolvedImport\n",
    "from problem_formulation import get_model_for_problem_formulation, sum_over, sum_over_time\n",
    "\n",
    "from ema_workbench.em_framework.salib_samplers import get_SALib_problem\n"
   ]
  },
  {
   "cell_type": "code",
   "execution_count": 4,
   "metadata": {
    "ExecuteTime": {
     "start_time": "2023-06-02T11:32:58.592051Z",
     "end_time": "2023-06-02T11:32:59.136022Z"
    }
   },
   "outputs": [],
   "source": [
    "ema_logging.log_to_stderr(ema_logging.INFO)\n",
    "\n",
    "# choose problem formulation number, between 0-5\n",
    "# each problem formulation has its own list of outcomes\n",
    "# our objective= minimize total costs\n",
    "\n",
    "''''\n",
    "2: expected damages, dike investment costs, rfr costs, evacuation cost, and casualties (choose this)\n",
    "4: Expected damages, dike investment cost and casualties disaggregated over dike rings and room for the river and evacuation costs (choose this)\n",
    "'''\n",
    "dike_model, planning_steps = get_model_for_problem_formulation(2)\n"
   ]
  },
  {
   "cell_type": "code",
   "execution_count": 17,
   "metadata": {
    "ExecuteTime": {
     "start_time": "2023-06-02T14:21:46.651105Z",
     "end_time": "2023-06-02T14:21:46.673191Z"
    }
   },
   "outputs": [
    {
     "name": "stdout",
     "output_type": "stream",
     "text": [
      "CategoricalParameter('discount rate 0', [0, 1, 2, 3])\n",
      "CategoricalParameter('discount rate 1', [0, 1, 2, 3])\n",
      "CategoricalParameter('discount rate 2', [0, 1, 2, 3])\n",
      "IntegerParameter('A.0_ID flood wave shape', 0, 132, resolution=None, default=None, variable_name=['A.0_ID flood wave shape'], pff=False)\n",
      "RealParameter('A.1_Bmax', 30, 350, resolution=None, default=None, variable_name=['A.1_Bmax'], pff=False)\n",
      "RealParameter('A.1_pfail', 0, 1, resolution=None, default=None, variable_name=['A.1_pfail'], pff=False)\n",
      "CategoricalParameter('A.1_Brate', [0, 1, 2])\n",
      "RealParameter('A.2_Bmax', 30, 350, resolution=None, default=None, variable_name=['A.2_Bmax'], pff=False)\n",
      "RealParameter('A.2_pfail', 0, 1, resolution=None, default=None, variable_name=['A.2_pfail'], pff=False)\n",
      "CategoricalParameter('A.2_Brate', [0, 1, 2])\n",
      "RealParameter('A.3_Bmax', 30, 350, resolution=None, default=None, variable_name=['A.3_Bmax'], pff=False)\n",
      "RealParameter('A.3_pfail', 0, 1, resolution=None, default=None, variable_name=['A.3_pfail'], pff=False)\n",
      "CategoricalParameter('A.3_Brate', [0, 1, 2])\n",
      "RealParameter('A.4_Bmax', 30, 350, resolution=None, default=None, variable_name=['A.4_Bmax'], pff=False)\n",
      "RealParameter('A.4_pfail', 0, 1, resolution=None, default=None, variable_name=['A.4_pfail'], pff=False)\n",
      "CategoricalParameter('A.4_Brate', [0, 1, 2])\n",
      "RealParameter('A.5_Bmax', 30, 350, resolution=None, default=None, variable_name=['A.5_Bmax'], pff=False)\n",
      "RealParameter('A.5_pfail', 0, 1, resolution=None, default=None, variable_name=['A.5_pfail'], pff=False)\n",
      "CategoricalParameter('A.5_Brate', [0, 1, 2])\n"
     ]
    }
   ],
   "source": [
    "# enlisting uncertainties, their types (RealParameter/IntegerParameter/CategoricalParameter), lower boundary, and upper boundary\n",
    "import copy\n",
    "\n",
    "for unc in dike_model.uncertainties:\n",
    "    print(repr(unc))\n",
    "\n",
    "uncertainties = copy.deepcopy(dike_model.uncertainties)\n",
    "\n",
    "# location dependent parameters\n",
    "# Bmax = final breach width (absolute)\n",
    "# pfail = dike failure probability\n",
    "# Brate = Breach width model (relative) /day\n",
    "# ID_flood wafe shape\n",
    "\n",
    "#discount rate Multiple Decision Points: The dike_model likely involves multiple decision points or stages over time. Each discount rate parameter can correspond to a specific decision point or phase in the model. For example, discount rate 0 may be associated with immediate costs and benefits, discount rate 1 with short-term impacts, and discount rate 2 with long-term consequences. This allows for evaluating the sensitivity of decisions and outcomes to varying discount rates at different stages.\n"
   ]
  },
  {
   "cell_type": "code",
   "execution_count": 6,
   "metadata": {
    "ExecuteTime": {
     "start_time": "2023-06-02T09:44:32.214778Z",
     "end_time": "2023-06-02T09:44:32.262597Z"
    }
   },
   "outputs": [
    {
     "name": "stdout",
     "output_type": "stream",
     "text": [
      "IntegerParameter('0_RfR 0', 0, 1, resolution=None, default=None, variable_name=['0_RfR 0'], pff=False)\n",
      "IntegerParameter('0_RfR 1', 0, 1, resolution=None, default=None, variable_name=['0_RfR 1'], pff=False)\n",
      "IntegerParameter('0_RfR 2', 0, 1, resolution=None, default=None, variable_name=['0_RfR 2'], pff=False)\n",
      "IntegerParameter('1_RfR 0', 0, 1, resolution=None, default=None, variable_name=['1_RfR 0'], pff=False)\n",
      "IntegerParameter('1_RfR 1', 0, 1, resolution=None, default=None, variable_name=['1_RfR 1'], pff=False)\n",
      "IntegerParameter('1_RfR 2', 0, 1, resolution=None, default=None, variable_name=['1_RfR 2'], pff=False)\n",
      "IntegerParameter('2_RfR 0', 0, 1, resolution=None, default=None, variable_name=['2_RfR 0'], pff=False)\n",
      "IntegerParameter('2_RfR 1', 0, 1, resolution=None, default=None, variable_name=['2_RfR 1'], pff=False)\n",
      "IntegerParameter('2_RfR 2', 0, 1, resolution=None, default=None, variable_name=['2_RfR 2'], pff=False)\n",
      "IntegerParameter('3_RfR 0', 0, 1, resolution=None, default=None, variable_name=['3_RfR 0'], pff=False)\n",
      "IntegerParameter('3_RfR 1', 0, 1, resolution=None, default=None, variable_name=['3_RfR 1'], pff=False)\n",
      "IntegerParameter('3_RfR 2', 0, 1, resolution=None, default=None, variable_name=['3_RfR 2'], pff=False)\n",
      "IntegerParameter('4_RfR 0', 0, 1, resolution=None, default=None, variable_name=['4_RfR 0'], pff=False)\n",
      "IntegerParameter('4_RfR 1', 0, 1, resolution=None, default=None, variable_name=['4_RfR 1'], pff=False)\n",
      "IntegerParameter('4_RfR 2', 0, 1, resolution=None, default=None, variable_name=['4_RfR 2'], pff=False)\n",
      "IntegerParameter('EWS_DaysToThreat', 0, 4, resolution=None, default=None, variable_name=['EWS_DaysToThreat'], pff=False)\n",
      "IntegerParameter('A.1_DikeIncrease 0', 0, 10, resolution=None, default=None, variable_name=['A.1_DikeIncrease 0'], pff=False)\n",
      "IntegerParameter('A.1_DikeIncrease 1', 0, 10, resolution=None, default=None, variable_name=['A.1_DikeIncrease 1'], pff=False)\n",
      "IntegerParameter('A.1_DikeIncrease 2', 0, 10, resolution=None, default=None, variable_name=['A.1_DikeIncrease 2'], pff=False)\n",
      "IntegerParameter('A.2_DikeIncrease 0', 0, 10, resolution=None, default=None, variable_name=['A.2_DikeIncrease 0'], pff=False)\n",
      "IntegerParameter('A.2_DikeIncrease 1', 0, 10, resolution=None, default=None, variable_name=['A.2_DikeIncrease 1'], pff=False)\n",
      "IntegerParameter('A.2_DikeIncrease 2', 0, 10, resolution=None, default=None, variable_name=['A.2_DikeIncrease 2'], pff=False)\n",
      "IntegerParameter('A.3_DikeIncrease 0', 0, 10, resolution=None, default=None, variable_name=['A.3_DikeIncrease 0'], pff=False)\n",
      "IntegerParameter('A.3_DikeIncrease 1', 0, 10, resolution=None, default=None, variable_name=['A.3_DikeIncrease 1'], pff=False)\n",
      "IntegerParameter('A.3_DikeIncrease 2', 0, 10, resolution=None, default=None, variable_name=['A.3_DikeIncrease 2'], pff=False)\n",
      "IntegerParameter('A.4_DikeIncrease 0', 0, 10, resolution=None, default=None, variable_name=['A.4_DikeIncrease 0'], pff=False)\n",
      "IntegerParameter('A.4_DikeIncrease 1', 0, 10, resolution=None, default=None, variable_name=['A.4_DikeIncrease 1'], pff=False)\n",
      "IntegerParameter('A.4_DikeIncrease 2', 0, 10, resolution=None, default=None, variable_name=['A.4_DikeIncrease 2'], pff=False)\n",
      "IntegerParameter('A.5_DikeIncrease 0', 0, 10, resolution=None, default=None, variable_name=['A.5_DikeIncrease 0'], pff=False)\n",
      "IntegerParameter('A.5_DikeIncrease 1', 0, 10, resolution=None, default=None, variable_name=['A.5_DikeIncrease 1'], pff=False)\n",
      "IntegerParameter('A.5_DikeIncrease 2', 0, 10, resolution=None, default=None, variable_name=['A.5_DikeIncrease 2'], pff=False)\n"
     ]
    }
   ],
   "source": [
    "# enlisting policy levers, their types (RealParameter/IntegerParameter), lower boundary, and upper boundary\n",
    "\n",
    "\n",
    "# Each lever has a specific name and range of values denoted by the indexes. Let's break down the levers and their indexes: The indexes indicate the available options or levels for each lever. For example, the '0_RfR 0' lever has two options: 0 and 1. Similarly, the 'A.1_DikeIncrease 0' lever has eleven options from 0 to 10. The specific index value chosen for each lever determines the level or intensity of the intervention applied during the model simulation.\n",
    "#Rfr: different project:switch on 1 off 0\n",
    "#Dike_increase: different intensity in dike increase 0 to 10\n",
    "\n",
    "for policy in dike_model.levers:\n",
    "    print(repr(policy))\n",
    "\n",
    "levers = copy.deepcopy(dike_model.levers)"
   ]
  },
  {
   "cell_type": "code",
   "execution_count": 7,
   "metadata": {
    "ExecuteTime": {
     "start_time": "2023-06-02T09:44:35.541154Z",
     "end_time": "2023-06-02T09:44:35.572119Z"
    }
   },
   "outputs": [
    {
     "name": "stdout",
     "output_type": "stream",
     "text": [
      "ScalarOutcome('Expected Annual Damage', variable_name=('A.1_Expected Annual Damage', 'A.2_Expected Annual Damage', 'A.3_Expected Annual Damage', 'A.4_Expected Annual Damage', 'A.5_Expected Annual Damage'), function=<function sum_over at 0x0000027C5EB7AE80>)\n",
      "ScalarOutcome('Dike Investment Costs', variable_name=('A.1_Dike Investment Costs', 'A.2_Dike Investment Costs', 'A.3_Dike Investment Costs', 'A.4_Dike Investment Costs', 'A.5_Dike Investment Costs'), function=<function sum_over at 0x0000027C5EB7AE80>)\n",
      "ScalarOutcome('RfR Investment Costs', variable_name=('RfR Total Costs',), function=<function sum_over at 0x0000027C5EB7AE80>)\n",
      "ScalarOutcome('Evacuation Costs', variable_name=('Expected Evacuation Costs',), function=<function sum_over at 0x0000027C5EB7AE80>)\n",
      "ScalarOutcome('Expected Number of Deaths', variable_name=('A.1_Expected Number of Deaths', 'A.2_Expected Number of Deaths', 'A.3_Expected Number of Deaths', 'A.4_Expected Number of Deaths', 'A.5_Expected Number of Deaths'), function=<function sum_over at 0x0000027C5EB7AE80>)\n"
     ]
    }
   ],
   "source": [
    "# enlisting outcomes\n",
    "for outcome in dike_model.outcomes:\n",
    "    print(repr(outcome))"
   ]
  },
  {
   "cell_type": "code",
   "execution_count": 8,
   "metadata": {
    "ExecuteTime": {
     "start_time": "2023-06-02T09:44:39.465942Z",
     "end_time": "2023-06-02T09:47:57.792763Z"
    }
   },
   "outputs": [
    {
     "name": "stderr",
     "output_type": "stream",
     "text": [
      "[MainProcess/INFO] pool started with 8 workers\n",
      "[MainProcess/INFO] performing 200 scenarios * 4 policies * 1 model(s) = 800 experiments\n",
      "100%|████████████████████████████████████████| 800/800 [02:52<00:00,  4.63it/s]\n",
      "[MainProcess/INFO] experiments finished\n",
      "[MainProcess/INFO] terminating pool\n"
     ]
    }
   ],
   "source": [
    "# running the model through EMA workbench\n",
    "with MultiprocessingEvaluator(dike_model) as evaluator:\n",
    "    results = evaluator.perform_experiments(scenarios=200, policies=4)"
   ]
  },
  {
   "cell_type": "code",
   "execution_count": null,
   "metadata": {
    "ExecuteTime": {
     "start_time": "2023-05-31T13:29:47.198969Z",
     "end_time": "2023-05-31T13:29:47.261677Z"
    },
    "scrolled": true
   },
   "outputs": [],
   "source": [
    "# observing the simulation runs\n",
    "experiments, outcomes = results\n",
    "print(outcomes.keys())\n",
    "\n",
    "\n",
    "# Location dependent\n",
    "# total costs\n",
    "# expected number ot deaths\n",
    "# RfR Total Costs\n",
    "# Expected Evacuation costs\n",
    "\n"
   ]
  },
  {
   "cell_type": "code",
   "execution_count": null,
   "metadata": {
    "ExecuteTime": {
     "start_time": "2023-05-31T14:01:34.932250Z",
     "end_time": "2023-05-31T14:01:44.429498Z"
    }
   },
   "outputs": [],
   "source": [
    "# only works because we have scalar outcomes\n",
    "sns.pairplot(pd.DataFrame.from_dict(outcomes))\n",
    "plt.show()\n",
    "plt.savefig('outcomes vs outcome')"
   ]
  },
  {
   "cell_type": "code",
   "execution_count": null,
   "outputs": [],
   "source": [
    "# plot here outcome vs. outcome dependend on policy\n",
    "\n",
    "policies = experiments['policy']\n",
    "\n",
    "data = pd.DataFrame.from_dict(outcomes)\n",
    "data['policy'] = policies\n",
    "\n",
    "sns.pairplot(data, hue='policy',  vars=outcomes.keys(), )\n",
    "plt.show()\n",
    "\n"
   ],
   "metadata": {
    "collapsed": false,
    "ExecuteTime": {
     "start_time": "2023-05-31T14:02:18.754503Z",
     "end_time": "2023-05-31T14:02:30.872168Z"
    }
   }
  },
  {
   "cell_type": "code",
   "execution_count": null,
   "outputs": [],
   "source": [
    "experiments_df = pd.DataFrame.from_dict(experiments)\n",
    "\n",
    "#apply filter\n",
    "experiments_df[experiments_df['policy']==0]"
   ],
   "metadata": {
    "collapsed": false,
    "ExecuteTime": {
     "start_time": "2023-05-31T14:10:08.486299Z",
     "end_time": "2023-05-31T14:10:08.660242Z"
    }
   }
  },
  {
   "cell_type": "code",
   "execution_count": null,
   "metadata": {
    "ExecuteTime": {
     "start_time": "2023-05-31T14:13:32.068424Z",
     "end_time": "2023-05-31T14:13:32.087728Z"
    }
   },
   "outputs": [],
   "source": [
    "# defining specific policies\n",
    "# for example, policy 1 is about extra protection in upper boundary\n",
    "# policy 2 is about extra protection in lower boundary\n",
    "# policy 3 is extra protection in random locations\n",
    "\n",
    "# BAU = Rfr (x,t) ; Dike increase (x,t) =0\n",
    "# Dike heightening scenario RFR=0 Dike heigth = 5\n",
    "#\n",
    "\n",
    "\n",
    "def get_do_nothing_dict():\n",
    "    return {l.name: 0 for l in dike_model.levers}\n",
    "\n",
    "\n",
    "policies = [\n",
    "    Policy(\n",
    "        \"BAU\",\n",
    "        **dict(\n",
    "            get_do_nothing_dict()\n",
    "        )\n",
    "    ),\n",
    "    Policy(\n",
    "        \"Dike Increase medium\",\n",
    "        **dict(get_do_nothing_dict(),\n",
    "                **{'A.1_DikeIncrease 0':5,\n",
    "                  'A.1_DikeIncrease 1':5,\n",
    "                  'A.1_DikeIncrease 2':5,\n",
    "                  'A.2_DikeIncrease 0':5,\n",
    "                  'A.2_DikeIncrease 1':5,\n",
    "                  'A.2_DikeIncrease 2':5,\n",
    "                  'A.3_DikeIncrease 0':5,\n",
    "                  'A.3_DikeIncrease 1':5,\n",
    "                  'A.3_DikeIncrease 2':5,\n",
    "                  'A.4_DikeIncrease 0':5,\n",
    "                  'A.4_DikeIncrease 1':5,\n",
    "                  'A.4_DikeIncrease 2':5,\n",
    "                  'A.5_DikeIncrease 0':5,\n",
    "                  'A.5_DikeIncrease 1':5,\n",
    "                  'A.5_DikeIncrease 2':5})\n",
    "    ),\n",
    "    Policy(\n",
    "        \"Dike Increase high\",\n",
    "        **dict(\n",
    "            get_do_nothing_dict(),\n",
    "           **{'A.1_DikeIncrease 0':5,\n",
    "                  'A.1_DikeIncrease 1':10,\n",
    "                  'A.1_DikeIncrease 2':10,\n",
    "                  'A.2_DikeIncrease 0':10,\n",
    "                  'A.2_DikeIncrease 1':10,\n",
    "                  'A.2_DikeIncrease 2':10,\n",
    "                  'A.3_DikeIncrease 0':10,\n",
    "                  'A.3_DikeIncrease 1':10,\n",
    "                  'A.3_DikeIncrease 2':10,\n",
    "                  'A.4_DikeIncrease 0':10,\n",
    "                  'A.4_DikeIncrease 1':10,\n",
    "                  'A.4_DikeIncrease 2':10,\n",
    "                  'A.5_DikeIncrease 0':10,\n",
    "                  'A.5_DikeIncrease 1':10,\n",
    "                  'A.5_DikeIncrease 2':10}\n",
    "        )\n",
    "    ),\n",
    "]"
   ]
  },
  {
   "cell_type": "code",
   "execution_count": null,
   "metadata": {
    "ExecuteTime": {
     "start_time": "2023-05-31T14:13:46.563271Z",
     "end_time": "2023-05-31T14:15:16.239926Z"
    }
   },
   "outputs": [],
   "source": [
    "# pass the policies list to EMA workbench experiment runs\n",
    "n_scenarios = 100\n",
    "with MultiprocessingEvaluator(dike_model) as evaluator:\n",
    "    results = evaluator.perform_experiments(n_scenarios, policies)"
   ]
  },
  {
   "cell_type": "code",
   "execution_count": null,
   "metadata": {
    "ExecuteTime": {
     "start_time": "2023-06-01T15:41:27.426916Z",
     "end_time": "2023-06-01T15:41:27.470531Z"
    }
   },
   "outputs": [],
   "source": [
    "experiments, outcomes = results"
   ]
  },
  {
   "cell_type": "code",
   "execution_count": null,
   "metadata": {
    "ExecuteTime": {
     "start_time": "2023-06-01T15:41:30.420713Z",
     "end_time": "2023-06-01T15:41:30.750633Z"
    }
   },
   "outputs": [],
   "source": [
    "# only works because we have scalar outcomes\n",
    "pd.DataFrame(outcomes)"
   ]
  },
  {
   "cell_type": "code",
   "execution_count": null,
   "metadata": {
    "ExecuteTime": {
     "start_time": "2023-06-01T15:41:37.570207Z",
     "end_time": "2023-06-01T15:41:50.006134Z"
    },
    "pycharm": {
     "name": "#%%"
    }
   },
   "outputs": [],
   "source": [
    "policies = experiments['policy']\n",
    "\n",
    "data = pd.DataFrame.from_dict(outcomes)\n",
    "data['policy'] = policies\n",
    "\n",
    "sns.pairplot(data, hue='policy',  vars=outcomes.keys(), )\n",
    "plt.show()\n",
    "plt.savefig('outcome vs outcome first experiments')\n",
    "\n",
    "\n"
   ]
  },
  {
   "cell_type": "code",
   "execution_count": 9,
   "metadata": {
    "ExecuteTime": {
     "start_time": "2023-06-02T10:32:39.632673Z",
     "end_time": "2023-06-02T10:32:39.639421Z"
    }
   },
   "outputs": [
    {
     "name": "stdout",
     "output_type": "stream",
     "text": [
      "{'num_vars': 19, 'names': ['A.0_ID flood wave shape', 'A.1_Bmax', 'A.1_Brate', 'A.1_pfail', 'A.2_Bmax', 'A.2_Brate', 'A.2_pfail', 'A.3_Bmax', 'A.3_Brate', 'A.3_pfail', 'A.4_Bmax', 'A.4_Brate', 'A.4_pfail', 'A.5_Bmax', 'A.5_Brate', 'A.5_pfail', 'discount rate 0', 'discount rate 1', 'discount rate 2'], 'bounds': [(0, 133), (30, 350), (0, 3), (0, 1), (30, 350), (0, 3), (0, 1), (30, 350), (0, 3), (0, 1), (30, 350), (0, 3), (0, 1), (30, 350), (0, 3), (0, 1), (0, 4), (0, 4), (0, 4)]}\n"
     ]
    }
   ],
   "source": [
    "from ema_workbench.em_framework.salib_samplers import get_SALib_problem\n",
    "\n",
    "\n",
    "\n",
    "\n"
   ]
  },
  {
   "cell_type": "code",
   "execution_count": 5,
   "outputs": [
    {
     "name": "stderr",
     "output_type": "stream",
     "text": [
      "[MainProcess/INFO] pool started with 8 workers\n",
      "C:\\Users\\admin\\Documents\\GitHub\\MBDM_Group5\\venv\\Lib\\site-packages\\scipy\\stats\\_qmc.py:763: UserWarning: The balance properties of Sobol' points require n to be a power of 2.\n",
      "  sample = self._random(n, workers=workers)\n",
      "[MainProcess/INFO] performing 40000 scenarios * 1 policies * 1 model(s) = 40000 experiments\n",
      "100%|██████████████████████████████████| 40000/40000 [2:15:48<00:00,  4.91it/s]\n",
      "[MainProcess/INFO] experiments finished\n",
      "[MainProcess/INFO] terminating pool\n"
     ]
    }
   ],
   "source": [
    "'''\n",
    "Sensitivity Analysis of the Uncertainty space respective to the Outcome\n",
    "'''\n",
    "\n",
    "\n",
    "sa_senarios=1000\n",
    "\n",
    "with MultiprocessingEvaluator(dike_model) as evaluator:\n",
    "    sa_results = evaluator.perform_experiments(scenarios=sa_senarios,policies=1, uncertainty_sampling=Samplers.SOBOL)\n"
   ],
   "metadata": {
    "collapsed": false,
    "ExecuteTime": {
     "start_time": "2023-06-02T11:33:04.782897Z",
     "end_time": "2023-06-02T13:49:19.754377Z"
    }
   }
  },
  {
   "cell_type": "code",
   "execution_count": 15,
   "metadata": {
    "ExecuteTime": {
     "start_time": "2023-06-02T14:19:19.118202Z",
     "end_time": "2023-06-02T14:19:19.177547Z"
    }
   },
   "outputs": [],
   "source": [
    "experiments_sa, outcomes_sa = sa_results\n",
    "\n",
    "outcomes_sa_df= pd.DataFrame.from_dict(outcomes_sa)\n",
    "\n",
    "# safe outcomes to csv / json\n",
    "outcomes_sa_df.to_json('sobol experiment outcomes_1000 scenarios')\n",
    "\n",
    "\n"
   ]
  },
  {
   "cell_type": "markdown",
   "source": [],
   "metadata": {
    "collapsed": false
   }
  },
  {
   "cell_type": "code",
   "execution_count": 46,
   "metadata": {
    "ExecuteTime": {
     "start_time": "2023-06-02T14:46:41.813183Z",
     "end_time": "2023-06-02T14:46:59.961517Z"
    }
   },
   "outputs": [
    {
     "name": "stdout",
     "output_type": "stream",
     "text": [
      "                                   ST       ST_conf\n",
      "A.0_ID flood wave shape  7.652054e-03  2.918415e-03\n",
      "A.1_Bmax                 3.378773e-05  4.774138e-05\n",
      "A.1_Brate                4.111191e-07  6.040091e-07\n",
      "A.1_pfail                5.478322e-01  1.658959e-01\n",
      "A.2_Bmax                 1.749353e-04  1.079406e-04\n",
      "A.2_Brate                2.545411e-05  3.360461e-05\n",
      "A.2_pfail                4.035072e-01  1.121528e-01\n",
      "A.3_Bmax                 7.313456e-07  1.655655e-06\n",
      "A.3_Brate                0.000000e+00  0.000000e+00\n",
      "A.3_pfail                7.297128e-04  7.015491e-04\n",
      "A.4_Bmax                 0.000000e+00  0.000000e+00\n",
      "A.4_Brate                0.000000e+00  0.000000e+00\n",
      "A.4_pfail                4.215829e-06  4.271503e-06\n",
      "A.5_Bmax                 0.000000e+00  0.000000e+00\n",
      "A.5_Brate                0.000000e+00  0.000000e+00\n",
      "A.5_pfail                1.165091e-01  4.833569e-02\n",
      "discount rate 0          7.142597e-02  4.006870e-02\n",
      "discount rate 1          5.606402e-05  4.723898e-05\n",
      "discount rate 2          2.684558e-06  3.208049e-06\n",
      "                               S1   S1_conf\n",
      "A.0_ID flood wave shape  0.004182  0.005860\n",
      "A.1_Bmax                -0.000117  0.000121\n",
      "A.1_Brate               -0.000010  0.000017\n",
      "A.1_pfail                0.562148  0.301728\n",
      "A.2_Bmax                -0.000084  0.000728\n",
      "A.2_Brate                0.000123  0.000197\n",
      "A.2_pfail                0.334593  0.138818\n",
      "A.3_Bmax                -0.000016  0.000034\n",
      "A.3_Brate                0.000000  0.000000\n",
      "A.3_pfail                0.000737  0.000664\n",
      "A.4_Bmax                 0.000000  0.000000\n",
      "A.4_Brate                0.000000  0.000000\n",
      "A.4_pfail                0.000059  0.000097\n",
      "A.5_Bmax                 0.000000  0.000000\n",
      "A.5_Brate                0.000000  0.000000\n",
      "A.5_pfail                0.074083  0.058310\n",
      "discount rate 0          0.008007  0.012349\n",
      "discount rate 1          0.000366  0.000535\n",
      "discount rate 2          0.000067  0.000169\n",
      "                                            S2   S2_conf\n",
      "(A.0_ID flood wave shape, A.1_Bmax)  -0.002714  0.006786\n",
      "(A.0_ID flood wave shape, A.1_Brate) -0.002696  0.006790\n",
      "(A.0_ID flood wave shape, A.1_pfail) -0.001543  0.006752\n",
      "(A.0_ID flood wave shape, A.2_Bmax)  -0.002649  0.006793\n",
      "(A.0_ID flood wave shape, A.2_Brate) -0.002728  0.006791\n",
      "...                                        ...       ...\n",
      "(A.5_pfail, discount rate 1)         -0.006213  0.063169\n",
      "(A.5_pfail, discount rate 2)         -0.006361  0.062783\n",
      "(discount rate 0, discount rate 1)   -0.005723  0.017167\n",
      "(discount rate 0, discount rate 2)   -0.005585  0.017014\n",
      "(discount rate 1, discount rate 2)   -0.000480  0.000609\n",
      "\n",
      "[171 rows x 2 columns]\n",
      "                          ST  ST_conf\n",
      "A.0_ID flood wave shape  0.0      NaN\n",
      "A.1_Bmax                 0.0      NaN\n",
      "A.1_Brate                0.0      NaN\n",
      "A.1_pfail                0.0      NaN\n",
      "A.2_Bmax                 0.0      NaN\n",
      "A.2_Brate                0.0      NaN\n",
      "A.2_pfail                0.0      NaN\n",
      "A.3_Bmax                 0.0      NaN\n",
      "A.3_Brate                0.0      NaN\n",
      "A.3_pfail                0.0      NaN\n",
      "A.4_Bmax                 0.0      NaN\n",
      "A.4_Brate                0.0      NaN\n",
      "A.4_pfail                0.0      NaN\n",
      "A.5_Bmax                 0.0      NaN\n",
      "A.5_Brate                0.0      NaN\n",
      "A.5_pfail                0.0      NaN\n",
      "discount rate 0          0.0      NaN\n",
      "discount rate 1          0.0      NaN\n",
      "discount rate 2          0.0      NaN\n",
      "                          S1  S1_conf\n",
      "A.0_ID flood wave shape  0.0      NaN\n",
      "A.1_Bmax                 0.0      NaN\n",
      "A.1_Brate                0.0      NaN\n",
      "A.1_pfail                0.0      NaN\n",
      "A.2_Bmax                 0.0      NaN\n",
      "A.2_Brate                0.0      NaN\n",
      "A.2_pfail                0.0      NaN\n",
      "A.3_Bmax                 0.0      NaN\n",
      "A.3_Brate                0.0      NaN\n",
      "A.3_pfail                0.0      NaN\n",
      "A.4_Bmax                 0.0      NaN\n",
      "A.4_Brate                0.0      NaN\n",
      "A.4_pfail                0.0      NaN\n",
      "A.5_Bmax                 0.0      NaN\n",
      "A.5_Brate                0.0      NaN\n",
      "A.5_pfail                0.0      NaN\n",
      "discount rate 0          0.0      NaN\n",
      "discount rate 1          0.0      NaN\n",
      "discount rate 2          0.0      NaN\n",
      "                                       S2  S2_conf\n",
      "(A.0_ID flood wave shape, A.1_Bmax)   0.0      NaN\n",
      "(A.0_ID flood wave shape, A.1_Brate)  0.0      NaN\n",
      "(A.0_ID flood wave shape, A.1_pfail)  0.0      NaN\n",
      "(A.0_ID flood wave shape, A.2_Bmax)   0.0      NaN\n",
      "(A.0_ID flood wave shape, A.2_Brate)  0.0      NaN\n",
      "...                                   ...      ...\n",
      "(A.5_pfail, discount rate 1)          0.0      NaN\n",
      "(A.5_pfail, discount rate 2)          0.0      NaN\n",
      "(discount rate 0, discount rate 1)    0.0      NaN\n",
      "(discount rate 0, discount rate 2)    0.0      NaN\n",
      "(discount rate 1, discount rate 2)    0.0      NaN\n",
      "\n",
      "[171 rows x 2 columns]\n"
     ]
    },
    {
     "name": "stderr",
     "output_type": "stream",
     "text": [
      "C:\\Users\\admin\\Documents\\GitHub\\MBDM_Group5\\venv\\Lib\\site-packages\\SALib\\analyze\\sobol.py:129: RuntimeWarning: invalid value encountered in divide\n",
      "  Y = (Y - Y.mean()) / Y.std()\n"
     ]
    },
    {
     "name": "stdout",
     "output_type": "stream",
     "text": [
      "                         ST  ST_conf\n",
      "A.0_ID flood wave shape NaN      NaN\n",
      "A.1_Bmax                NaN      NaN\n",
      "A.1_Brate               NaN      NaN\n",
      "A.1_pfail               NaN      NaN\n",
      "A.2_Bmax                NaN      NaN\n",
      "A.2_Brate               NaN      NaN\n",
      "A.2_pfail               NaN      NaN\n",
      "A.3_Bmax                NaN      NaN\n",
      "A.3_Brate               NaN      NaN\n",
      "A.3_pfail               NaN      NaN\n",
      "A.4_Bmax                NaN      NaN\n",
      "A.4_Brate               NaN      NaN\n",
      "A.4_pfail               NaN      NaN\n",
      "A.5_Bmax                NaN      NaN\n",
      "A.5_Brate               NaN      NaN\n",
      "A.5_pfail               NaN      NaN\n",
      "discount rate 0         NaN      NaN\n",
      "discount rate 1         NaN      NaN\n",
      "discount rate 2         NaN      NaN\n",
      "                         S1  S1_conf\n",
      "A.0_ID flood wave shape NaN      NaN\n",
      "A.1_Bmax                NaN      NaN\n",
      "A.1_Brate               NaN      NaN\n",
      "A.1_pfail               NaN      NaN\n",
      "A.2_Bmax                NaN      NaN\n",
      "A.2_Brate               NaN      NaN\n",
      "A.2_pfail               NaN      NaN\n",
      "A.3_Bmax                NaN      NaN\n",
      "A.3_Brate               NaN      NaN\n",
      "A.3_pfail               NaN      NaN\n",
      "A.4_Bmax                NaN      NaN\n",
      "A.4_Brate               NaN      NaN\n",
      "A.4_pfail               NaN      NaN\n",
      "A.5_Bmax                NaN      NaN\n",
      "A.5_Brate               NaN      NaN\n",
      "A.5_pfail               NaN      NaN\n",
      "discount rate 0         NaN      NaN\n",
      "discount rate 1         NaN      NaN\n",
      "discount rate 2         NaN      NaN\n",
      "                                      S2  S2_conf\n",
      "(A.0_ID flood wave shape, A.1_Bmax)  NaN      NaN\n",
      "(A.0_ID flood wave shape, A.1_Brate) NaN      NaN\n",
      "(A.0_ID flood wave shape, A.1_pfail) NaN      NaN\n",
      "(A.0_ID flood wave shape, A.2_Bmax)  NaN      NaN\n",
      "(A.0_ID flood wave shape, A.2_Brate) NaN      NaN\n",
      "...                                   ..      ...\n",
      "(A.5_pfail, discount rate 1)         NaN      NaN\n",
      "(A.5_pfail, discount rate 2)         NaN      NaN\n",
      "(discount rate 0, discount rate 1)   NaN      NaN\n",
      "(discount rate 0, discount rate 2)   NaN      NaN\n",
      "(discount rate 1, discount rate 2)   NaN      NaN\n",
      "\n",
      "[171 rows x 2 columns]\n",
      "                               ST   ST_conf\n",
      "A.0_ID flood wave shape  0.015357  0.004681\n",
      "A.1_Bmax                 0.000107  0.000125\n",
      "A.1_Brate                0.000002  0.000003\n",
      "A.1_pfail                0.041476  0.023751\n",
      "A.2_Bmax                 0.000500  0.000269\n",
      "A.2_Brate                0.000087  0.000115\n",
      "A.2_pfail                0.754719  0.088764\n",
      "A.3_Bmax                 0.000004  0.000007\n",
      "A.3_Brate                0.000000  0.000000\n",
      "A.3_pfail                0.000827  0.000762\n",
      "A.4_Bmax                 0.000000  0.000000\n",
      "A.4_Brate                0.000000  0.000000\n",
      "A.4_pfail                0.000016  0.000014\n",
      "A.5_Bmax                 0.000000  0.000000\n",
      "A.5_Brate                0.000000  0.000000\n",
      "A.5_pfail                0.278902  0.081212\n",
      "discount rate 0          0.000000  0.000000\n",
      "discount rate 1          0.000000  0.000000\n",
      "discount rate 2          0.000000  0.000000\n",
      "                               S1   S1_conf\n",
      "A.0_ID flood wave shape  0.003917  0.008309\n",
      "A.1_Bmax                -0.000129  0.000379\n",
      "A.1_Brate               -0.000026  0.000049\n",
      "A.1_pfail                0.045922  0.027942\n",
      "A.2_Bmax                -0.000217  0.001346\n",
      "A.2_Brate                0.000241  0.000541\n",
      "A.2_pfail                0.686475  0.161809\n",
      "A.3_Bmax                -0.000045  0.000078\n",
      "A.3_Brate                0.000000  0.000000\n",
      "A.3_pfail                0.000877  0.001017\n",
      "A.4_Bmax                 0.000000  0.000000\n",
      "A.4_Brate                0.000000  0.000000\n",
      "A.4_pfail                0.000204  0.000333\n",
      "A.5_Bmax                 0.000000  0.000000\n",
      "A.5_Brate                0.000000  0.000000\n",
      "A.5_pfail                0.232853  0.127997\n",
      "discount rate 0          0.000000  0.000000\n",
      "discount rate 1          0.000000  0.000000\n",
      "discount rate 2          0.000000  0.000000\n",
      "                                            S2   S2_conf\n",
      "(A.0_ID flood wave shape, A.1_Bmax)  -0.004880  0.012186\n",
      "(A.0_ID flood wave shape, A.1_Brate) -0.004860  0.012206\n",
      "(A.0_ID flood wave shape, A.1_pfail) -0.004722  0.012398\n",
      "(A.0_ID flood wave shape, A.2_Bmax)  -0.004649  0.012180\n",
      "(A.0_ID flood wave shape, A.2_Brate) -0.004914  0.012220\n",
      "...                                        ...       ...\n",
      "(A.5_pfail, discount rate 1)         -0.027399  0.139638\n",
      "(A.5_pfail, discount rate 2)         -0.027399  0.139638\n",
      "(discount rate 0, discount rate 1)    0.000000  0.000000\n",
      "(discount rate 0, discount rate 2)    0.000000  0.000000\n",
      "(discount rate 1, discount rate 2)    0.000000  0.000000\n",
      "\n",
      "[171 rows x 2 columns]\n",
      "                               ST   ST_conf\n",
      "A.0_ID flood wave shape  0.010158  0.003743\n",
      "A.1_Bmax                 0.000075  0.000085\n",
      "A.1_Brate                0.000001  0.000002\n",
      "A.1_pfail                0.393627  0.139151\n",
      "A.2_Bmax                 0.000299  0.000176\n",
      "A.2_Brate                0.000045  0.000049\n",
      "A.2_pfail                0.523623  0.125865\n",
      "A.3_Bmax                 0.000002  0.000005\n",
      "A.3_Brate                0.000000  0.000000\n",
      "A.3_pfail                0.004095  0.003985\n",
      "A.4_Bmax                 0.000000  0.000000\n",
      "A.4_Brate                0.000000  0.000000\n",
      "A.4_pfail                0.000004  0.000005\n",
      "A.5_Bmax                 0.000000  0.000000\n",
      "A.5_Brate                0.000000  0.000000\n",
      "A.5_pfail                0.141610  0.045981\n",
      "discount rate 0          0.000000  0.000000\n",
      "discount rate 1          0.000000  0.000000\n",
      "discount rate 2          0.000000  0.000000\n",
      "                               S1   S1_conf\n",
      "A.0_ID flood wave shape  0.004023  0.005827\n",
      "A.1_Bmax                -0.000170  0.000269\n",
      "A.1_Brate               -0.000021  0.000040\n",
      "A.1_pfail                0.402760  0.233886\n",
      "A.2_Bmax                -0.000270  0.001093\n",
      "A.2_Brate                0.000134  0.000299\n",
      "A.2_pfail                0.480171  0.159193\n",
      "A.3_Bmax                -0.000034  0.000062\n",
      "A.3_Brate                0.000000  0.000000\n",
      "A.3_pfail                0.005542  0.005678\n",
      "A.4_Bmax                 0.000000  0.000000\n",
      "A.4_Brate                0.000000  0.000000\n",
      "A.4_pfail                0.000134  0.000228\n",
      "A.5_Bmax                 0.000000  0.000000\n",
      "A.5_Brate                0.000000  0.000000\n",
      "A.5_pfail                0.115051  0.062076\n",
      "discount rate 0          0.000000  0.000000\n",
      "discount rate 1          0.000000  0.000000\n",
      "discount rate 2          0.000000  0.000000\n",
      "                                            S2   S2_conf\n",
      "(A.0_ID flood wave shape, A.1_Bmax)  -0.003863  0.008644\n",
      "(A.0_ID flood wave shape, A.1_Brate) -0.003845  0.008652\n",
      "(A.0_ID flood wave shape, A.1_pfail) -0.002491  0.008967\n",
      "(A.0_ID flood wave shape, A.2_Bmax)  -0.003722  0.008652\n",
      "(A.0_ID flood wave shape, A.2_Brate) -0.003876  0.008675\n",
      "...                                        ...       ...\n",
      "(A.5_pfail, discount rate 1)         -0.013493  0.056962\n",
      "(A.5_pfail, discount rate 2)         -0.013493  0.056962\n",
      "(discount rate 0, discount rate 1)    0.000000  0.000000\n",
      "(discount rate 0, discount rate 2)    0.000000  0.000000\n",
      "(discount rate 1, discount rate 2)    0.000000  0.000000\n",
      "\n",
      "[171 rows x 2 columns]\n"
     ]
    }
   ],
   "source": [
    "'Do sensitivity Analysis for uncertainty space outcome'\n",
    "outcomes_sa_col = outcomes_sa_df.columns\n",
    "\n",
    "problem = get_SALib_problem(uncertainties)\n",
    "\n",
    "results_Si =dict()\n",
    "\n",
    "for item in outcomes_sa_df.columns:\n",
    "    results_Si[item] = sobol.analyze(problem, outcomes_sa[item], calc_second_order=True, print_to_console=True, parallel=True)\n",
    "\n"
   ]
  },
  {
   "cell_type": "code",
   "execution_count": 49,
   "outputs": [
    {
     "data": {
      "text/plain": "<Figure size 800x600 with 1 Axes>",
      "image/png": "[encoded data removed]"
     },
     "metadata": {},
     "output_type": "display_data"
    }
   ],
   "source": [
    "Si_filter = {k:results_Si['Expected Annual Damage'][k] for k in ['ST','ST_conf','S1','S1_conf']}\n",
    "Si_df = pd.DataFrame(Si_filter, index=problem['names'])\n",
    "\n",
    "sns.set_style('white')\n",
    "fig, ax = plt.subplots(1)\n",
    "\n",
    "indices = Si_df[['S1','ST']]\n",
    "err = Si_df[['S1_conf','ST_conf']]\n",
    "\n",
    "indices.plot.bar(yerr=err.values.T,ax=ax)\n",
    "fig.set_size_inches(8,6)\n",
    "fig.subplots_adjust(bottom=0.3)\n",
    "plt.title('Sensitivity for EAD s=1000')\n",
    "plt.show()"
   ],
   "metadata": {
    "collapsed": false,
    "ExecuteTime": {
     "start_time": "2023-06-02T14:49:03.515255Z",
     "end_time": "2023-06-02T14:49:03.836824Z"
    }
   }
  },
  {
   "cell_type": "code",
   "execution_count": 42,
   "outputs": [
    {
     "name": "stdout",
     "output_type": "stream",
     "text": [
      "Index(['A.1_pfail', 'A.2_pfail', 'A.5_pfail', 'discount rate 0'], dtype='object')\n"
     ]
    }
   ],
   "source": [
    "'Define a boundary for ST min that is considered for analysis.'\n",
    "\n",
    "imp_uncer = Si_df[Si_df['ST']>0.01]\n",
    "\n",
    "print(imp_uncer.index)"
   ],
   "metadata": {
    "collapsed": false,
    "ExecuteTime": {
     "start_time": "2023-06-02T14:40:08.670387Z",
     "end_time": "2023-06-02T14:40:08.701745Z"
    }
   }
  },
  {
   "cell_type": "code",
   "execution_count": null,
   "outputs": [],
   "source": [],
   "metadata": {
    "collapsed": false
   }
  }
 ],
 "metadata": {
  "kernelspec": {
   "display_name": "Python 3 (ipykernel)",
   "language": "python",
   "name": "python3"
  },
  "language_info": {
   "codemirror_mode": {
    "name": "ipython",
    "version": 3
   },
   "file_extension": ".py",
   "mimetype": "text/x-python",
   "name": "python",
   "nbconvert_exporter": "python",
   "pygments_lexer": "ipython3",
   "version": "3.7.13"
  }
 },
 "nbformat": 4,
 "nbformat_minor": 4
}
