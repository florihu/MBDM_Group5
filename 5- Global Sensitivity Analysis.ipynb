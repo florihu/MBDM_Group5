{
 "cells": [
  {
   "cell_type": "markdown",
   "metadata": {},
   "source": [
    "# 5. Global Sensitivity Analysis\n",
    "\n",
    "This code contains a global sensitivity analysis for the policies identified in section 4- MORDM 2 of this repository\n",
    "\n",
    "## 5.1 Installing EMA workbench and importing libraries"
   ]
  },
  {
   "cell_type": "code",
   "execution_count": 1,
   "metadata": {
    "ExecuteTime": {
     "end_time": "2023-06-21T00:50:17.058032Z",
     "start_time": "2023-06-21T00:50:13.480674Z"
    }
   },
   "outputs": [
    {
     "name": "stdout",
     "output_type": "stream",
     "text": [
      "['Expected Annual Damage', 'Dike Investment Costs', 'RfR Investment Costs', 'Evacuation Costs', 'Expected Number of Deaths', 'Min Water Level', 'Max Water Level']\n"
     ]
    }
   ],
   "source": [
    "from ema_workbench import (\n",
    "    Model,\n",
    "    Policy,\n",
    "    ema_logging,\n",
    "    SequentialEvaluator,\n",
    "    MultiprocessingEvaluator,\n",
    "    perform_experiments,\n",
    "    Samplers,\n",
    "    Scenario\n",
    ")\n",
    "import numpy as np\n",
    "import pandas as pd\n",
    "import copy\n",
    "from problem_formulation import get_model_for_problem_formulation, sum_over, sum_over_time\n",
    "\n",
    "\n",
    "dike_model, planning_steps = get_model_for_problem_formulation(2)\n",
    "\n",
    "uncertainties = copy.deepcopy(dike_model.uncertainties)\n",
    "\n",
    "levers = copy.deepcopy(dike_model.levers)\n",
    "\n",
    "outcome_names = []\n",
    "for outcome in dike_model.outcomes:\n",
    "    outcome_names.append(outcome.name)\n",
    "\n",
    "print(outcome_names)"
   ]
  },
  {
   "cell_type": "markdown",
   "metadata": {},
   "source": [
    "## 5.2 Defining policy and applying GSA \n",
    "The analysed policy will be 1412"
   ]
  },
  {
   "cell_type": "code",
   "execution_count": 2,
   "metadata": {
    "ExecuteTime": {
     "end_time": "2023-06-21T00:52:39.208258Z",
     "start_time": "2023-06-21T00:52:39.197903Z"
    }
   },
   "outputs": [],
   "source": [
    "policies_to_evaluate = [\n",
    " Policy('1412',**{'0_RfR 0': 0,\n",
    "                  '0_RfR 1': 0,\n",
    "                  '0_RfR 2': 0,\n",
    "                  '1_RfR 0': 0,\n",
    "                  '1_RfR 1': 0,\n",
    "                  '1_RfR 2': 0,\n",
    "                  '2_RfR 0': 0,\n",
    "                  '2_RfR 1': 1,\n",
    "                  '2_RfR 2': 0,\n",
    "                  '3_RfR 0': 0,\n",
    "                  '3_RfR 1': 0,\n",
    "                  '3_RfR 2': 0,\n",
    "                  '4_RfR 0': 0,\n",
    "                  '4_RfR 1': 0,\n",
    "                  '4_RfR 2': 0,\n",
    "                  'EWS_DaysToThreat': 2,\n",
    "                  'A.1_DikeIncrease 0': 5,\n",
    "                  'A.1_DikeIncrease 1': 0,\n",
    "                  'A.1_DikeIncrease 2': 0,\n",
    "                  'A.2_DikeIncrease 0': 2,\n",
    "                  'A.2_DikeIncrease 1': 0,\n",
    "                  'A.2_DikeIncrease 2': 0,\n",
    "                  'A.3_DikeIncrease 0': 2,\n",
    "                  'A.3_DikeIncrease 1': 0,\n",
    "                  'A.3_DikeIncrease 2': 0,\n",
    "                  'A.4_DikeIncrease 0': 2,\n",
    "                  'A.4_DikeIncrease 1': 0,\n",
    "                  'A.4_DikeIncrease 2': 1,\n",
    "                  'A.5_DikeIncrease 0': 3,\n",
    "                  'A.5_DikeIncrease 1': 0,\n",
    "                  'A.5_DikeIncrease 2': 0})\n",
    "]\n",
    "\n"
   ]
  },
  {
   "cell_type": "markdown",
   "metadata": {},
   "source": [
    "policy\n",
    "1412    0.263193\n",
    "1662    0.419249\n",
    "1380    0.431670\n",
    "911     0.431670"
   ]
  },
  {
   "cell_type": "code",
   "execution_count": null,
   "metadata": {
    "ExecuteTime": {
     "end_time": "2023-06-21T03:06:54.493637Z",
     "start_time": "2023-06-21T00:53:43.626760Z"
    }
   },
   "outputs": [
    {
     "name": "stderr",
     "output_type": "stream",
     "text": [
      "C:\\Users\\Federico\\Anaconda3\\envs\\MBDM\\Lib\\site-packages\\scipy\\stats\\_qmc.py:763: UserWarning: The balance properties of Sobol' points require n to be a power of 2.\n",
      "  sample = self._random(n, workers=workers)\n",
      "  1%|▎                                   | 309/40000 [01:34<3:36:18,  3.06it/s]"
     ]
    }
   ],
   "source": [
    "scenarios = 1000\n",
    "\n",
    "with MultiprocessingEvaluator(dike_model) as evaluator:\n",
    "    results = evaluator.perform_experiments(scenarios, policies_to_evaluate, uncertainty_sampling=Samplers.SOBOL)\n",
    "\n",
    "\n",
    "\n",
    "experiments, outcomes = results\n",
    "\n",
    "outcomes_df= pd.DataFrame.from_dict(outcomes)\n",
    "experiments_df= pd.DataFrame.from_dict(outcomes)\n",
    "# safe outcomes to csv / json\n",
    "outcomes_df.to_csv('GSA_final_outcomes')\n",
    "experiments_df.to_csv('GSA_final_experiments')"
   ]
  },
  {
   "cell_type": "code",
   "execution_count": null,
   "metadata": {
    "ExecuteTime": {
     "end_time": "2023-06-21T09:22:06.593264Z",
     "start_time": "2023-06-21T09:21:37.822557Z"
    }
   },
   "outputs": [],
   "source": [
    "from ema_workbench.em_framework.salib_samplers import get_SALib_problem\n",
    "from SALib.analyze import sobol\n",
    "\n",
    "problem = get_SALib_problem(uncertainties)\n",
    "\n",
    "results_Si =dict()\n",
    "\n",
    "for item in outcomes_df.columns:\n",
    "    results_Si[item] = sobol.analyze(problem, outcomes[item], calc_second_order=True, print_to_console=True, parallel=True)\n",
    "\n"
   ]
  },
  {
   "cell_type": "code",
   "execution_count": null,
   "metadata": {
    "ExecuteTime": {
     "end_time": "2023-06-21T09:31:23.133056Z",
     "start_time": "2023-06-21T09:31:21.322276Z"
    }
   },
   "outputs": [],
   "source": [
    "import matplotlib.pyplot as plt\n",
    "import seaborn as sns\n",
    "\n",
    "Si_filter=dict()\n",
    "\n",
    "for item in ['Expected Annual Damage', 'Expected Number of Deaths', 'Min Water Level']:\n",
    "    Si_filter[item] = {k:results_Si[item][k] for k in ['ST','ST_conf','S1','S1_conf']}\n",
    "    Si_df = pd.DataFrame(Si_filter[item], index=problem['names'])\n",
    "\n",
    "    sns.set_style('white')\n",
    "    fig, ax = plt.subplots(1)\n",
    "\n",
    "    indices = Si_df[['S1','ST']]\n",
    "    err = Si_df[['S1_conf','ST_conf']]\n",
    "\n",
    "    indices.plot.bar(yerr=err.values.T,ax=ax)\n",
    "    fig.set_size_inches(8,6)\n",
    "    fig.subplots_adjust(bottom=0.3)\n",
    "    plt.savefig(f\"Final GSA policy 1412_{item}\")\n",
    "    plt.ylabel(f\"{item}\")\n",
    "    plt.show()\n"
   ]
  },
  {
   "cell_type": "markdown",
   "metadata": {},
   "source": [
    "In these graphs, the relationship between the parameters and the expected outcomes can be visualized. As was observed previously, dike rings A1 and A3 should be prioritized in a real-world policy scenario, as these are shown to have the most impact on water level. \n",
    "While A1_pfail is more strongly related to Expected Annual Damage, A3_pfail has a stronger relationship to Expected Number of Deaths. This is important information which would be useful to set priorities in a real-life scenario. \n",
    "Finally, it can be observed that the most relevant parameter for water level is flood wave shape. In reality, the usefulness of this information is not very clear, as there is no further actions that could be taken to counteract this \n"
   ]
  },
  {
   "cell_type": "code",
   "execution_count": null,
   "metadata": {
    "ExecuteTime": {
     "end_time": "2023-06-21T09:28:48.287031Z",
     "start_time": "2023-06-21T09:28:48.274772Z"
    }
   },
   "outputs": [],
   "source": [
    "print(outcome_names)"
   ]
  },
  {
   "cell_type": "markdown",
   "metadata": {},
   "source": [
    "S1 = how this specific parameter influences the "
   ]
  },
  {
   "cell_type": "code",
   "execution_count": null,
   "metadata": {},
   "outputs": [],
   "source": []
  }
 ],
 "metadata": {
  "kernelspec": {
   "display_name": "Python [conda env:MBDM]",
   "language": "python",
   "name": "conda-env-MBDM-py"
  },
  "language_info": {
   "codemirror_mode": {
    "name": "ipython",
    "version": 3
   },
   "file_extension": ".py",
   "mimetype": "text/x-python",
   "name": "python",
   "nbconvert_exporter": "python",
   "pygments_lexer": "ipython3",
   "version": "3.11.3"
  }
 },
 "nbformat": 4,
 "nbformat_minor": 1
}
